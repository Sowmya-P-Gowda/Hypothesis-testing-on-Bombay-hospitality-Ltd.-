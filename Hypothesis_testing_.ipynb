{
  "nbformat": 4,
  "nbformat_minor": 0,
  "metadata": {
    "colab": {
      "provenance": []
    },
    "kernelspec": {
      "name": "python3",
      "display_name": "Python 3"
    },
    "language_info": {
      "name": "python"
    }
  },
  "cells": [
    {
      "cell_type": "markdown",
      "source": [
        "**Background**:\n",
        "\n",
        "Bombay hospitality Ltd. operates a franchise model for producing exotic Norwegian dinners throughout New England. The operating cost for a franchise in a week (W) is given by the equation W = $1,000 + $5X, where X represents the number of units produced in a week. Recent feedback from restaurant owners suggests that this cost model may no longer be accurate, as their observed weekly operating costs are higher.\n",
        "Objective:\n",
        "\n",
        "To investigate the restaurant owners' claim about the increase in weekly operating costs using hypothesis testing.\n",
        "Data Provided:\n",
        "\n",
        "\t•\tThe theoretical weekly operating cost model: W = $1,000 + $5X\n",
        "\t•\tSample of 25 restaurants with a mean weekly cost of Rs. 3,050\n",
        "\t•\tNumber of units produced in a week (X) follows a normal distribution with a mean (μ) of 600 units and a standard deviation (σ) of 25 units\n",
        "  \n",
        "Tasks:\n",
        "\n",
        "1. State the Hypotheses statement:\n",
        "2. Calculate the Test Statistic:\n",
        "Use the following formula to calculate the test statistic (t):\n",
        "where:\n",
        "\t•\tˉxˉ = sample mean weekly cost (Rs. 3,050)\n",
        "\t•\tμ = theoretical mean weekly cost according to the cost model (W = $1,000 + $5X for X = 600 units)\n",
        "\t•\tσ = 5*25 units\n",
        "\t•\tn = sample size (25 restaurants)\n",
        "3. Determine the Critical Value:\n",
        "\n",
        "Using the alpha level of 5% (α = 0.05), determine the critical value from the standard normal (Z) distribution table.\n",
        "4. Make a Decision:\n",
        "\n",
        "Compare the test statistic with the critical value to decide whether to reject the null hypothesis.\n"
      ],
      "metadata": {
        "id": "J2q-HuaeAtuh"
      }
    },
    {
      "cell_type": "code",
      "execution_count": null,
      "metadata": {
        "id": "U2gomzs7oSQA"
      },
      "outputs": [],
      "source": [
        "#importing the required libraries\n",
        "import pandas as pd\n",
        "import numpy as np\n",
        "from scipy import stats"
      ]
    },
    {
      "cell_type": "markdown",
      "source": [
        "Hypothesis testing.  \n",
        "Sample mean = 3050,  \n",
        "Sample size (n) = 25,  \n",
        "X=600,  \n",
        "Population mean W=$1000+$5X=(1000+5*(600))\n",
        "\n",
        "**1.State the Hypotheses**\n",
        "\n",
        "Null Hypothesis : The mean weekly operating cost is as per the model, i.e., $$\\mu = 1000 + 5 \\times 600 = 4000$$\n",
        "\n",
        "Alternative Hypothesis: The mean weekly operating cost is greater than the model, i.e., $$\\mu > 4000$$\n",
        "\n",
        "**2.Calculate the Test Statistic**\n",
        "\n",
        "Calculate the standard deviation of W Since W = 1000 + 5X\n",
        ", the standard deviation of W\n",
        " is $$5 \\times \\sigma_X = 5 \\times 25 = 125$$\n",
        "\n",
        "Standard error (SE) of the sample mean: $$SE = \\frac{125}{\\sqrt{25}} = 25$$\n",
        "\n"
      ],
      "metadata": {
        "id": "OKp5-XDQpqR4"
      }
    },
    {
      "cell_type": "code",
      "source": [
        "StdDev=(5*25)\n",
        "n=25\n",
        "print(\"Standard Deviation of W is\",StdDev)\n",
        "#StdErr=StdDev/np.sqrt(n)\n",
        "StdErr=StdDev/np.sqrt(n)\n",
        "print(\"Standard error of sample mean is\",StdErr)\n",
        "#t = (Sample Mean - Pop Mean) / Std Error\n",
        "t=(3050-(1000+5*(600)))/(25*5/np.sqrt(25))\n",
        "print(\"Test static or t value=\",t)\n"
      ],
      "metadata": {
        "colab": {
          "base_uri": "https://localhost:8080/"
        },
        "id": "w7HGx9oRGn6r",
        "outputId": "36410408-5da2-481e-e2b9-1a6e78954e81"
      },
      "execution_count": null,
      "outputs": [
        {
          "output_type": "stream",
          "name": "stdout",
          "text": [
            "Standard Deviation of W is 125\n",
            "Standard error of sample mean is 25.0\n",
            "Test static or t value= -38.0\n"
          ]
        }
      ]
    },
    {
      "cell_type": "markdown",
      "source": [
        "**3.Determine the Critical Value**\n",
        "\n",
        "Since this is a one-tailed test (greater than),\n",
        "we look for the critical Z value for a significance level\n",
        "\n",
        "\n",
        "\n",
        "Critical t value for given df(25-1=24) and significance level(0.05):\n",
        "\n",
        "**Critical t value=1.711**\n",
        "\n",
        " However, the test statistic is extremely negative, indicating the sample mean is much less than the hypothesized mean, which contradicts the claim\n",
        "Conclusion\n",
        "\n",
        "**4.Make a Decision**\n",
        "Since the test statistic is extremely negative and not greater than the critical value, we fail to reject the null hypothesis\n",
        "\n",
        "**5.Conclusion**\n",
        "There is no statistical evidence to support the claim that the weekly operating costs have increased"
      ],
      "metadata": {
        "id": "YN9wyXN7kX17"
      }
    },
    {
      "cell_type": "code",
      "source": [],
      "metadata": {
        "id": "ZGTJgJXxV9Qc"
      },
      "execution_count": null,
      "outputs": []
    }
  ]
}